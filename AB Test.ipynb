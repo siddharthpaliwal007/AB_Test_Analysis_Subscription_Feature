{
 "cells": [
  {
   "cell_type": "code",
   "execution_count": 77,
   "id": "bd50a364-64eb-4acc-a1c5-1b2bf8d733f4",
   "metadata": {},
   "outputs": [
    {
     "name": "stderr",
     "output_type": "stream",
     "text": [
      "C:\\Users\\paliw\\AppData\\Local\\Temp\\ipykernel_46264\\2561852917.py:6: UserWarning: Parsing dates in %d-%m-%Y format when dayfirst=False (the default) was specified. Pass `dayfirst=True` or specify a format to silence this warning.\n",
      "  users_df = pd.read_csv(\"users.csv\", parse_dates=[\"signup_date\"])\n",
      "C:\\Users\\paliw\\AppData\\Local\\Temp\\ipykernel_46264\\2561852917.py:7: UserWarning: Parsing dates in %d-%m-%Y format when dayfirst=False (the default) was specified. Pass `dayfirst=True` or specify a format to silence this warning.\n",
      "  events_df = pd.read_csv(\"events.csv\", parse_dates=[\"event_time\"])\n"
     ]
    }
   ],
   "source": [
    "import pandas as pd\n",
    "import numpy as np\n",
    "from statsmodels.stats.proportion import proportions_ztest\n",
    "\n",
    "# Loaded CSV files with the 'signup_date' and 'event_time' alongwith columns parsed as dates\n",
    "users_df = pd.read_csv(\"users.csv\", parse_dates=[\"signup_date\"])\n",
    "events_df = pd.read_csv(\"events.csv\", parse_dates=[\"event_time\"])\n",
    "\n",
    "# Merged the two dataframes (events_df and users_df) on the 'user_id' column\n",
    "merged_df = pd.merge(events_df, users_df, on=\"user_id\", how=\"left\")\n",
    "\n",
    "# Calculated the number of days since each user signed up. Helping to track user activity based on the time since signup\n",
    "merged_df[\"days_since_signup\"] = (merged_df[\"event_time\"] - merged_df[\"signup_date\"]).dt.days"
   ]
  },
  {
   "cell_type": "code",
   "execution_count": 61,
   "id": "d0698094-0223-413b-8a9a-1c666beb5f2b",
   "metadata": {},
   "outputs": [],
   "source": [
    "# 1. Calculated Day 1 Retention Rate\n",
    "\n",
    "# Filtered the merged data to get users who had an event on Day 1 (days_since_signup == 1)\n",
    "day1_retention = merged_df[merged_df[\"days_since_signup\"] == 1][[\"user_id\", \"group\"]].drop_duplicates()\n",
    "\n",
    "# - Counted the number of unique users in each group (control and test) who retained on Day 1\n",
    "day1_counts = day1_retention.groupby(\"group\")[\"user_id\"].nunique()\n",
    "\n",
    "# Counted the total signups per group (control and test)\n",
    "signup_counts = users_df.groupby(\"group\")[\"user_id\"].nunique()\n",
    "\n",
    "# Calculated the Day 1 retention rate for each group: Day 1 Retention Rate = (Number of users who retained / Total number of users in group)\n",
    "retention_rate_day1 = (day1_counts / signup_counts).fillna(0).round(3)"
   ]
  },
  {
   "cell_type": "code",
   "execution_count": 65,
   "id": "1107f880-57e6-4656-8b64-e7d5911cf05a",
   "metadata": {},
   "outputs": [],
   "source": [
    "# 2. Calculated Day 7 Retention Rate (same approach)\n",
    "\n",
    "# Filtered the merged data to get users who had an event on Day 7 (days_since_signup == 7)\n",
    "day7_retention = merged_df[merged_df[\"days_since_signup\"] == 7][[\"user_id\", \"group\"]].drop_duplicates()\n",
    "\n",
    "# Counted the number of unique users in each group (control and test) who retained on Day 7\n",
    "day7_counts = day7_retention.groupby(\"group\")[\"user_id\"].nunique()\n",
    "\n",
    "# Calculated the Day 7 retention rate for each group: Day 7 Retention Rate = (Number of users who retained / Total number of users in group)\n",
    "retention_rate_day7 = (day7_counts / signup_counts).fillna(0).round(3)"
   ]
  },
  {
   "cell_type": "code",
   "execution_count": 69,
   "id": "5572a941-e133-438a-92b6-dff408fa3bce",
   "metadata": {},
   "outputs": [],
   "source": [
    "# 3. Calculated Subscription Conversion Rate for the Test Group\n",
    "\n",
    "# Filtered the merged data to include only users in the test group\n",
    "test_group_df = merged_df[merged_df[\"group\"] == \"test\"]\n",
    "\n",
    "# Counted the number of unique users in the test group who signed up for a subscription\n",
    "# Subscription signup event type is assumed to be 'subscription_signup' and it's counted within 7 days after signup\n",
    "subscribed_users = test_group_df[\n",
    "    (test_group_df[\"event_type\"] == \"subscription_signup\") &  # Filtered by subscription signup event\n",
    "    (test_group_df[\"days_since_signup\"] <= 7)  # Only consider signups within 7 days after the user signed up\n",
    "][\"user_id\"].nunique()  # Also unique\n",
    "\n",
    "# The total number of signups in the test group (regardless of subscription)\n",
    "total_test_signups = users_df[users_df[\"group\"] == \"test\"][\"user_id\"].nunique()\n",
    "\n",
    "# Calculated the subscription conversion rate in the test group: Conversion Rate = (Number of users who subscribed / Total number of test group users)\n",
    "subscription_conversion_rate = round(subscribed_users / total_test_signups, 3)"
   ]
  },
  {
   "cell_type": "code",
   "execution_count": 73,
   "id": "45882be5-1d60-4760-9f8a-afdf4bf8624c",
   "metadata": {},
   "outputs": [],
   "source": [
    "# 4. Performed Statistical Significance Test (Z-Test) on Day 7 Retention Rates between Control and Test Groups\n",
    "# The number of users retained on Day 7 in the control and test groups.\n",
    "control_day7 = day7_retention[day7_retention[\"group\"] == \"control\"][\"user_id\"].nunique()\n",
    "test_day7 = day7_retention[day7_retention[\"group\"] == \"test\"][\"user_id\"].nunique()\n",
    "\n",
    "# - The total number of signups for control and test groups\n",
    "control_total = signup_counts.get(\"control\", 0)\n",
    "test_total = signup_counts.get(\"test\", 0)\n",
    "\n",
    "# - Setup the number of successes (retained users on Day 7) and the total number of users in each group\n",
    "successes = np.array([control_day7, test_day7])\n",
    "totals = np.array([control_total, test_total])\n",
    "\n",
    "# Performed a Z-test to check if the difference in Day 7 retention rates between control and test groups is statistically significant\n",
    "z_stat, p_val = proportions_ztest(successes, totals)"
   ]
  },
  {
   "cell_type": "code",
   "execution_count": 79,
   "id": "1e051058-d2eb-492f-852a-70418192f51c",
   "metadata": {},
   "outputs": [
    {
     "name": "stdout",
     "output_type": "stream",
     "text": [
      "Day 1 Retention Rate:\n",
      " group\n",
      "control    0.432\n",
      "test       0.214\n",
      "Name: user_id, dtype: float64\n",
      "Day 7 Retention Rate:\n",
      " group\n",
      "control    0.227\n",
      "test       0.304\n",
      "Name: user_id, dtype: float64\n",
      "Subscription Conversion Rate (Test Group): 0.321\n",
      "Z-Statistic: -0.853\n",
      "P-Value: 0.394\n"
     ]
    }
   ],
   "source": [
    "# Output: Printing all calculated metrics and the result of the Z-test\n",
    "print(\"Day 1 Retention Rate:\\n\", retention_rate_day1)\n",
    "print(\"Day 7 Retention Rate:\\n\", retention_rate_day7)\n",
    "print(\"Subscription Conversion Rate (Test Group):\", subscription_conversion_rate)\n",
    "print(\"Z-Statistic:\", round(z_stat, 3))  # Test statistic from the Z-test\n",
    "print(\"P-Value:\", round(p_val, 3))  # P-value from the Z-test, indicates statistical significance"
   ]
  },
  {
   "cell_type": "code",
   "execution_count": null,
   "id": "92731d52-82c9-45dd-9481-f9a41658e080",
   "metadata": {},
   "outputs": [],
   "source": []
  }
 ],
 "metadata": {
  "kernelspec": {
   "display_name": "Python [conda env:base] *",
   "language": "python",
   "name": "conda-base-py"
  },
  "language_info": {
   "codemirror_mode": {
    "name": "ipython",
    "version": 3
   },
   "file_extension": ".py",
   "mimetype": "text/x-python",
   "name": "python",
   "nbconvert_exporter": "python",
   "pygments_lexer": "ipython3",
   "version": "3.12.7"
  }
 },
 "nbformat": 4,
 "nbformat_minor": 5
}
